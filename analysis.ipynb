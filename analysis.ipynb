{
  "nbformat": 4,
  "nbformat_minor": 0,
  "metadata": {
    "colab": {
      "provenance": []
    },
    "kernelspec": {
      "name": "python3",
      "display_name": "Python 3"
    },
    "language_info": {
      "name": "python"
    }
  },
  "cells": [
    {
      "cell_type": "code",
      "execution_count": 1,
      "metadata": {
        "id": "nr642RfaMS7B"
      },
      "outputs": [],
      "source": [
        "import numpy as np"
      ]
    },
    {
      "cell_type": "code",
      "source": [
        "input_ids = \"1 0 0 3 0 2 4 2 2 2\"\n"
      ],
      "metadata": {
        "id": "izPZM3dONVt5"
      },
      "execution_count": 2,
      "outputs": []
    },
    {
      "cell_type": "code",
      "source": [
        "ids_array = np.array(list(map(int, input_ids.strip().split())))\n"
      ],
      "metadata": {
        "id": "jzZmog13N8Pv"
      },
      "execution_count": 3,
      "outputs": []
    },
    {
      "cell_type": "code",
      "source": [
        "seen = set()\n",
        "output_array = np.zeros(len(ids_array), dtype=bool)\n"
      ],
      "metadata": {
        "id": "QDXyolkDOBuj"
      },
      "execution_count": 4,
      "outputs": []
    },
    {
      "cell_type": "code",
      "source": [
        "for i, val in enumerate(ids_array):\n",
        "    if val in seen:\n",
        "        output_array[i] = True\n",
        "    else:\n",
        "        seen.add(val)\n",
        "        output_array[i] = False\n"
      ],
      "metadata": {
        "id": "mdRc3S1nOHEk"
      },
      "execution_count": 5,
      "outputs": []
    },
    {
      "cell_type": "code",
      "source": [
        "print(output_array)"
      ],
      "metadata": {
        "colab": {
          "base_uri": "https://localhost:8080/"
        },
        "id": "0OLR0y9WOMDx",
        "outputId": "244bbd82-90d1-4d3a-ca52-4eca5f809c6a"
      },
      "execution_count": 6,
      "outputs": [
        {
          "output_type": "stream",
          "name": "stdout",
          "text": [
            "[False False  True False  True False False  True  True  True]\n"
          ]
        }
      ]
    }
  ]
}