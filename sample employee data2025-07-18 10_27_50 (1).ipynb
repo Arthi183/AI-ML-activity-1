{
 "cells": [
  {
   "cell_type": "code",
   "execution_count": 0,
   "metadata": {
    "application/vnd.databricks.v1+cell": {
     "cellMetadata": {
      "byteLimit": 2048000,
      "rowLimit": 10000
     },
     "inputWidgets": {},
     "nuid": "6906102b-f9f0-4a81-9c28-5774ba0596a5",
     "showTitle": false,
     "tableResultSettingsMap": {},
     "title": ""
    }
   },
   "outputs": [],
   "source": [
    "from pyspark.sql import SparkSession "
   ]
  },
  {
   "cell_type": "code",
   "execution_count": 0,
   "metadata": {
    "application/vnd.databricks.v1+cell": {
     "cellMetadata": {
      "byteLimit": 2048000,
      "rowLimit": 10000
     },
     "inputWidgets": {},
     "nuid": "cbb631c9-a487-4076-a86c-a572c5c9696a",
     "showTitle": false,
     "tableResultSettingsMap": {},
     "title": ""
    }
   },
   "outputs": [],
   "source": [
    "spark = SparkSession.builder.appName(\"StudentAssignment\").getOrCreate() "
   ]
  },
  {
   "cell_type": "code",
   "execution_count": 0,
   "metadata": {
    "application/vnd.databricks.v1+cell": {
     "cellMetadata": {
      "byteLimit": 2048000,
      "rowLimit": 10000
     },
     "inputWidgets": {},
     "nuid": "f3d7e225-9657-4776-86fe-cf4a2de14a86",
     "showTitle": false,
     "tableResultSettingsMap": {},
     "title": ""
    }
   },
   "outputs": [
    {
     "output_type": "stream",
     "name": "stdout",
     "output_type": "stream",
     "text": [
      "+---+-------+-----------+------+\n| ID|   Name| Department|Salary|\n+---+-------+-----------+------+\n|  1|  Alice|Engineering| 65000|\n|  2|    Bob|  Marketing| 58000|\n|  3|Charlie|      Sales| 52000|\n|  4|  David|Engineering| 72000|\n|  5|    Eve|      Sales| 54000|\n+---+-------+-----------+------+\n\n"
     ]
    }
   ],
   "source": [
    "data = [ \n",
    "(1, \"Alice\", \"Engineering\", 65000), \n",
    "(2, \"Bob\", \"Marketing\", 58000), \n",
    "(3, \"Charlie\", \"Sales\", 52000), \n",
    "(4, \"David\", \"Engineering\", 72000), \n",
    "(5, \"Eve\", \"Sales\", 54000) \n",
    "] \n",
    "schema = [\"ID\", \"Name\", \"Department\", \"Salary\"] \n",
    "df = spark.createDataFrame(data, schema=schema) \n",
    "df.show()"
   ]
  },
  {
   "cell_type": "code",
   "execution_count": 0,
   "metadata": {
    "application/vnd.databricks.v1+cell": {
     "cellMetadata": {
      "byteLimit": 2048000,
      "rowLimit": 10000
     },
     "inputWidgets": {},
     "nuid": "bedbdea2-e465-4fac-b27a-22ac6fc9250e",
     "showTitle": false,
     "tableResultSettingsMap": {},
     "title": ""
    }
   },
   "outputs": [
    {
     "output_type": "stream",
     "name": "stdout",
     "output_type": "stream",
     "text": [
      "root\n |-- ID: long (nullable = true)\n |-- Name: string (nullable = true)\n |-- Department: string (nullable = true)\n |-- Salary: long (nullable = true)\n\n"
     ]
    }
   ],
   "source": [
    "df.printSchema()"
   ]
  },
  {
   "cell_type": "code",
   "execution_count": 0,
   "metadata": {
    "application/vnd.databricks.v1+cell": {
     "cellMetadata": {
      "byteLimit": 2048000,
      "rowLimit": 10000
     },
     "inputWidgets": {},
     "nuid": "bdce60de-2554-4825-bf67-30745e7a2249",
     "showTitle": false,
     "tableResultSettingsMap": {},
     "title": ""
    }
   },
   "outputs": [
    {
     "output_type": "stream",
     "name": "stdout",
     "output_type": "stream",
     "text": [
      "+---+-----+-----------+------+\n| ID| Name| Department|Salary|\n+---+-----+-----------+------+\n|  1|Alice|Engineering| 65000|\n|  4|David|Engineering| 72000|\n+---+-----+-----------+------+\n\n"
     ]
    }
   ],
   "source": [
    "df.filter(df[\"Salary\"] > 60000).show() "
   ]
  },
  {
   "cell_type": "code",
   "execution_count": 0,
   "metadata": {
    "application/vnd.databricks.v1+cell": {
     "cellMetadata": {
      "byteLimit": 2048000,
      "rowLimit": 10000
     },
     "inputWidgets": {},
     "nuid": "d28da567-2e7a-4818-9411-f750f1833f03",
     "showTitle": false,
     "tableResultSettingsMap": {},
     "title": ""
    }
   },
   "outputs": [
    {
     "output_type": "stream",
     "name": "stdout",
     "output_type": "stream",
     "text": [
      "+-----------+-----+\n| Department|count|\n+-----------+-----+\n|Engineering|    2|\n|  Marketing|    1|\n|      Sales|    2|\n+-----------+-----+\n\n"
     ]
    }
   ],
   "source": [
    "df.groupBy(\"Department\").count().show()"
   ]
  },
  {
   "cell_type": "code",
   "execution_count": 0,
   "metadata": {
    "application/vnd.databricks.v1+cell": {
     "cellMetadata": {
      "byteLimit": 2048000,
      "rowLimit": 10000
     },
     "inputWidgets": {},
     "nuid": "855f3a2e-98c5-445f-a676-a4c1bc741a2d",
     "showTitle": false,
     "tableResultSettingsMap": {},
     "title": ""
    }
   },
   "outputs": [
    {
     "output_type": "stream",
     "name": "stdout",
     "output_type": "stream",
     "text": [
      "+-----------+-----------+\n| Department|avg(Salary)|\n+-----------+-----------+\n|Engineering|    68500.0|\n|  Marketing|    58000.0|\n|      Sales|    53000.0|\n+-----------+-----------+\n\n"
     ]
    }
   ],
   "source": [
    "df.groupBy(\"Department\").avg(\"Salary\").show()"
   ]
  }
 ],
 "metadata": {
  "application/vnd.databricks.v1+notebook": {
   "computePreferences": null,
   "dashboards": [],
   "environmentMetadata": {
    "base_environment": "",
    "environment_version": "2"
   },
   "inputWidgetPreferences": null,
   "language": "python",
   "notebookMetadata": {
    "pythonIndentUnit": 4
   },
   "notebookName": "sample employee data2025-07-18 10:27:50",
   "widgets": {}
  },
  "language_info": {
   "name": "python"
  }
 },
 "nbformat": 4,
 "nbformat_minor": 0
}