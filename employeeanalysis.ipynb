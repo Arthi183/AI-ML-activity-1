{
  "nbformat": 4,
  "nbformat_minor": 0,
  "metadata": {
    "colab": {
      "provenance": []
    },
    "kernelspec": {
      "name": "python3",
      "display_name": "Python 3"
    },
    "language_info": {
      "name": "python"
    }
  },
  "cells": [
    {
      "cell_type": "code",
      "execution_count": 40,
      "metadata": {
        "id": "ACDeGXeAZJDP"
      },
      "outputs": [],
      "source": [
        "import numpy as np"
      ]
    },
    {
      "cell_type": "code",
      "source": [
        "import pandas as pd"
      ],
      "metadata": {
        "id": "i5OU266Nauyq"
      },
      "execution_count": 41,
      "outputs": []
    },
    {
      "cell_type": "code",
      "source": [
        "np.random.seed(42)"
      ],
      "metadata": {
        "id": "I_ADt3Zaa1u4"
      },
      "execution_count": 42,
      "outputs": []
    },
    {
      "cell_type": "code",
      "source": [
        "employee_ids=[f'EMP_{i:03d}' for i in range(1,31)]\n",
        "dates = pd.date_range(\"2025-07-01\",periods=30,freq=\"D\")"
      ],
      "metadata": {
        "id": "7wymcHNpa-84"
      },
      "execution_count": 43,
      "outputs": []
    },
    {
      "cell_type": "code",
      "source": [
        "employee_ids"
      ],
      "metadata": {
        "colab": {
          "base_uri": "https://localhost:8080/"
        },
        "id": "J4TtxznUc5HW",
        "outputId": "e0de0983-d460-4605-9597-3c5c155369d9"
      },
      "execution_count": 44,
      "outputs": [
        {
          "output_type": "execute_result",
          "data": {
            "text/plain": [
              "['EMP_001',\n",
              " 'EMP_002',\n",
              " 'EMP_003',\n",
              " 'EMP_004',\n",
              " 'EMP_005',\n",
              " 'EMP_006',\n",
              " 'EMP_007',\n",
              " 'EMP_008',\n",
              " 'EMP_009',\n",
              " 'EMP_010',\n",
              " 'EMP_011',\n",
              " 'EMP_012',\n",
              " 'EMP_013',\n",
              " 'EMP_014',\n",
              " 'EMP_015',\n",
              " 'EMP_016',\n",
              " 'EMP_017',\n",
              " 'EMP_018',\n",
              " 'EMP_019',\n",
              " 'EMP_020',\n",
              " 'EMP_021',\n",
              " 'EMP_022',\n",
              " 'EMP_023',\n",
              " 'EMP_024',\n",
              " 'EMP_025',\n",
              " 'EMP_026',\n",
              " 'EMP_027',\n",
              " 'EMP_028',\n",
              " 'EMP_029',\n",
              " 'EMP_030']"
            ]
          },
          "metadata": {},
          "execution_count": 44
        }
      ]
    },
    {
      "cell_type": "code",
      "source": [
        "data={\n",
        "    \"Date\":np.tile(dates,len(employee_ids)),\n",
        "    \"Employee_ID\":np.repeat(employee_ids,len(dates)),\n",
        "    \"Working_Hours\":np.random.uniform(4,10,size=len(dates)*len(employee_ids)).round(2)\n",
        "}"
      ],
      "metadata": {
        "id": "FVZMdRUjdKvC"
      },
      "execution_count": 45,
      "outputs": []
    },
    {
      "cell_type": "code",
      "source": [
        "df=pd.DataFrame(data)\n"
      ],
      "metadata": {
        "id": "LPrAWqMmc96z"
      },
      "execution_count": 46,
      "outputs": []
    },
    {
      "cell_type": "code",
      "source": [
        "df.to_csv(\"employee_working_hours.csv\",index=False)"
      ],
      "metadata": {
        "id": "t-Uu0MOyd7oj"
      },
      "execution_count": 47,
      "outputs": []
    },
    {
      "cell_type": "code",
      "source": [
        "#read from csv\n",
        "df_csv=pd.read_csv(\"employee_working_hours.csv\")"
      ],
      "metadata": {
        "id": "r5qadf1IeTI2"
      },
      "execution_count": 49,
      "outputs": []
    },
    {
      "cell_type": "code",
      "source": [
        "print(df_csv.head())\n",
        "print(df_csv.describe())\n",
        "print(df_csv[\"Employee_ID\"].nunique())"
      ],
      "metadata": {
        "colab": {
          "base_uri": "https://localhost:8080/"
        },
        "id": "ygNWHuTAedcy",
        "outputId": "45be59bb-6e3c-4e6e-96f8-0bf35350e138"
      },
      "execution_count": 48,
      "outputs": [
        {
          "output_type": "stream",
          "name": "stdout",
          "text": [
            "         Date Employee_ID  Working_Hours  Low_Hour_Flag  High_Hour_Flag\n",
            "0  2025-07-01     EMP_001           5.25          False           False\n",
            "1  2025-07-02     EMP_001           4.16           True           False\n",
            "2  2025-07-03     EMP_001           5.09          False           False\n",
            "3  2025-07-04     EMP_001           7.50          False           False\n",
            "4  2025-07-05     EMP_001           6.53          False           False\n",
            "       Working_Hours\n",
            "count     900.000000\n",
            "mean        7.016256\n",
            "std         1.757421\n",
            "min         4.030000\n",
            "25%         5.430000\n",
            "50%         7.075000\n",
            "75%         8.532500\n",
            "max        10.000000\n",
            "30\n"
          ]
        }
      ]
    },
    {
      "cell_type": "code",
      "source": [
        "total_hours=df_csv.groupby(\"Employee_ID\")[\"Working_Hours\"].sum().sort_values(ascending=False)\n"
      ],
      "metadata": {
        "id": "BPVy9MK_gEiK"
      },
      "execution_count": 50,
      "outputs": []
    },
    {
      "cell_type": "code",
      "source": [
        "avg_hours=df_csv.groupby(\"Employee_ID\")[\"Working_Hours\"].mean()"
      ],
      "metadata": {
        "id": "XNvPodqdhPwq"
      },
      "execution_count": 51,
      "outputs": []
    },
    {
      "cell_type": "code",
      "source": [
        "threshold_low=5\n",
        "threshold_high=9\n",
        "df_csv[\"Low_Hour_Flag\"]=df_csv[\"Working_Hours\"]<threshold_low\n",
        "df_csv[\"High_Hour_Flag\"]=df_csv[\"Working_Hours\"]>threshold_high"
      ],
      "metadata": {
        "id": "B4MPeg_HhdFW"
      },
      "execution_count": 52,
      "outputs": []
    },
    {
      "cell_type": "code",
      "source": [
        "print(df_csv[df_csv[\"Low_Hour_Flag\"]| df_csv[\"High_Hour_Flag\"]].head())"
      ],
      "metadata": {
        "colab": {
          "base_uri": "https://localhost:8080/"
        },
        "id": "lbyNifRlip5b",
        "outputId": "24c2c130-74dc-473f-a6a5-fbf908e276ac"
      },
      "execution_count": 53,
      "outputs": [
        {
          "output_type": "stream",
          "name": "stdout",
          "text": [
            "         Date Employee_ID  Working_Hours  Low_Hour_Flag  High_Hour_Flag\n",
            "1  2025-07-02     EMP_001           9.70          False            True\n",
            "4  2025-07-05     EMP_001           4.94           True           False\n",
            "5  2025-07-06     EMP_001           4.94           True           False\n",
            "6  2025-07-07     EMP_001           4.35           True           False\n",
            "7  2025-07-08     EMP_001           9.20          False            True\n"
          ]
        }
      ]
    },
    {
      "cell_type": "code",
      "source": [
        "import matplotlib.pyplot as plt\n"
      ],
      "metadata": {
        "id": "-iB_d9APh6MB"
      },
      "execution_count": 54,
      "outputs": []
    },
    {
      "cell_type": "code",
      "source": [
        "import seaborn as sns"
      ],
      "metadata": {
        "id": "mIEulhbHjLmz"
      },
      "execution_count": 56,
      "outputs": []
    },
    {
      "cell_type": "code",
      "source": [
        "top10=total_hours.head(10)\n",
        "plt.figure(figsize=(10,5))\n",
        "sns.barplot(x=top10.index,y=top10.values)\n",
        "plt.xticks(rotation=45)\n",
        "plt.title(\"Top 10 Employees by Total Working Hours\")\n",
        "plt.ylabel(\"Hours\")\n",
        "plt.tight_layout()\n",
        "plt.show()"
      ],
      "metadata": {
        "colab": {
          "base_uri": "https://localhost:8080/",
          "height": 507
        },
        "id": "n4u8p5JcjORo",
        "outputId": "8f251803-9742-4afb-afd4-da04fa9a19fc"
      },
      "execution_count": 57,
      "outputs": [
        {
          "output_type": "display_data",
          "data": {
            "text/plain": [
              "<Figure size 1000x500 with 1 Axes>"
            ],
            "image/png": "[encoded data removed]"
          },
          "metadata": {}
        }
      ]
    },
    {
      "cell_type": "code",
      "source": [
        "Grades=df.loc[(df[\"Employee_ID\"]==\"EMP_019\")]"
      ],
      "metadata": {
        "id": "TG8q9SHjmj5G"
      },
      "execution_count": 58,
      "outputs": []
    },
    {
      "cell_type": "code",
      "source": [
        "print(Grades)"
      ],
      "metadata": {
        "colab": {
          "base_uri": "https://localhost:8080/"
        },
        "id": "piUhh6hcoXwn",
        "outputId": "c6f2d1f2-d402-4ffb-93e6-2e1fb2a8e578"
      },
      "execution_count": 59,
      "outputs": [
        {
          "output_type": "stream",
          "name": "stdout",
          "text": [
            "          Date Employee_ID  Working_Hours\n",
            "540 2025-07-01     EMP_019           9.72\n",
            "541 2025-07-02     EMP_019           7.64\n",
            "542 2025-07-03     EMP_019           5.37\n",
            "543 2025-07-04     EMP_019           8.03\n",
            "544 2025-07-05     EMP_019           7.71\n",
            "545 2025-07-06     EMP_019           6.15\n",
            "546 2025-07-07     EMP_019           4.68\n",
            "547 2025-07-08     EMP_019           8.03\n",
            "548 2025-07-09     EMP_019           7.12\n",
            "549 2025-07-10     EMP_019           8.63\n",
            "550 2025-07-11     EMP_019           7.12\n",
            "551 2025-07-12     EMP_019           9.11\n",
            "552 2025-07-13     EMP_019           7.31\n",
            "553 2025-07-14     EMP_019           7.37\n",
            "554 2025-07-15     EMP_019           9.26\n",
            "555 2025-07-16     EMP_019           6.42\n",
            "556 2025-07-17     EMP_019           4.80\n",
            "557 2025-07-18     EMP_019           4.17\n",
            "558 2025-07-19     EMP_019           8.53\n",
            "559 2025-07-20     EMP_019           7.72\n",
            "560 2025-07-21     EMP_019           8.22\n",
            "561 2025-07-22     EMP_019           5.28\n",
            "562 2025-07-23     EMP_019           4.82\n",
            "563 2025-07-24     EMP_019           4.09\n",
            "564 2025-07-25     EMP_019           6.10\n",
            "565 2025-07-26     EMP_019           7.54\n",
            "566 2025-07-27     EMP_019           6.35\n",
            "567 2025-07-28     EMP_019           6.62\n",
            "568 2025-07-29     EMP_019           9.42\n",
            "569 2025-07-30     EMP_019           6.09\n"
          ]
        }
      ]
    }
  ]
}