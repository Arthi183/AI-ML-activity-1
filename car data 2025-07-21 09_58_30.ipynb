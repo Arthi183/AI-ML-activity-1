{
 "cells": [
  {
   "cell_type": "code",
   "execution_count": 0,
   "metadata": {
    "application/vnd.databricks.v1+cell": {
     "cellMetadata": {
      "byteLimit": 2048000,
      "rowLimit": 10000
     },
     "inputWidgets": {},
     "nuid": "5428d223-7aa5-44bb-accb-3b19a6722a6c",
     "showTitle": false,
     "tableResultSettingsMap": {},
     "title": ""
    }
   },
   "outputs": [],
   "source": [
    "import pandas as pd\n",
    "import numpy as np"
   ]
  },
  {
   "cell_type": "code",
   "execution_count": 0,
   "metadata": {
    "application/vnd.databricks.v1+cell": {
     "cellMetadata": {
      "byteLimit": 2048000,
      "rowLimit": 10000
     },
     "inputWidgets": {},
     "nuid": "5f47f3b5-8023-49dd-a0cd-b444af6ab3df",
     "showTitle": false,
     "tableResultSettingsMap": {},
     "title": ""
    }
   },
   "outputs": [
    {
     "output_type": "stream",
     "name": "stdout",
     "output_type": "stream",
     "text": [
      "    mpg  cylinders  displacement  ... Unnamed: 11  Unnamed: 12  Unnamed: 13\n0  18.0          8           307  ...         NaN          NaN          NaN\n1  15.0          8           350  ...         NaN          NaN          NaN\n2  18.0          8           318  ...         NaN          NaN          NaN\n3  16.0          8           304  ...         NaN          NaN          NaN\n4  17.0          8           302  ...         NaN          NaN          NaN\n\n[5 rows x 14 columns]\n    mpg  cylinders  displacement  ... model  origin                 car\n0  33.0          4            91  ...    76       3         honda civic\n1  20.0          6           225  ...    76       1      dodge aspen se\n2  18.0          6           250  ...    76       1   ford granada ghia\n3  18.5          6           250  ...    76       1  pontiac ventura sj\n4  17.5          6           258  ...    76       1       amc pacer d/l\n\n[5 rows x 9 columns]\n"
     ]
    }
   ],
   "source": [
    "cars1=pd.read_csv(\"https://raw.githubusercontent.com/guipsamora/pandas_exercises/master/05_Merge/Auto_MPG/cars1.csv\")\n",
    "cars2=pd.read_csv(\"https://raw.githubusercontent.com/guipsamora/pandas_exercises/master/05_Merge/Auto_MPG/cars2.csv\")\n",
    "print(cars1.head())\n",
    "print(cars2.head())\n",
    "   "
   ]
  },
  {
   "cell_type": "code",
   "execution_count": 0,
   "metadata": {
    "application/vnd.databricks.v1+cell": {
     "cellMetadata": {
      "byteLimit": 2048000,
      "rowLimit": 10000
     },
     "inputWidgets": {},
     "nuid": "d50fe5ae-32fd-45cc-a0bc-44dbdd98a088",
     "showTitle": false,
     "tableResultSettingsMap": {},
     "title": ""
    }
   },
   "outputs": [],
   "source": [
    "cars1.to_csv(\"cars1.csv\", index=False)\n",
    "cars2.to_csv(\"cars2.csv\", index=False)"
   ]
  },
  {
   "cell_type": "code",
   "execution_count": 0,
   "metadata": {
    "application/vnd.databricks.v1+cell": {
     "cellMetadata": {
      "byteLimit": 2048000,
      "rowLimit": 10000
     },
     "inputWidgets": {},
     "nuid": "45bba9b1-d12e-4363-b474-336cdd6a16c1",
     "showTitle": false,
     "tableResultSettingsMap": {},
     "title": ""
    }
   },
   "outputs": [
    {
     "output_type": "stream",
     "name": "stdout",
     "output_type": "stream",
     "text": [
      "    mpg  cylinders  displacement  ... model  origin                        car\n0  18.0          8           307  ...    70       1  chevrolet chevelle malibu\n1  15.0          8           350  ...    70       1          buick skylark 320\n2  18.0          8           318  ...    70       1         plymouth satellite\n3  16.0          8           304  ...    70       1              amc rebel sst\n4  17.0          8           302  ...    70       1                ford torino\n\n[5 rows x 9 columns]\n"
     ]
    }
   ],
   "source": [
    "cars1=cars1.loc[:, \"mpg\":\"car\"]\n",
    "print(cars1.head())\n"
   ]
  },
  {
   "cell_type": "code",
   "execution_count": 0,
   "metadata": {
    "application/vnd.databricks.v1+cell": {
     "cellMetadata": {
      "byteLimit": 2048000,
      "rowLimit": 10000
     },
     "inputWidgets": {},
     "nuid": "3ede93ae-3788-4c44-a165-2e3421016f78",
     "showTitle": false,
     "tableResultSettingsMap": {},
     "title": ""
    }
   },
   "outputs": [
    {
     "output_type": "stream",
     "name": "stdout",
     "output_type": "stream",
     "text": [
      "    mpg  cylinders  displacement  ... model  origin                        car\n0  18.0          8           307  ...    70       1  chevrolet chevelle malibu\n1  15.0          8           350  ...    70       1          buick skylark 320\n2  18.0          8           318  ...    70       1         plymouth satellite\n3  16.0          8           304  ...    70       1              amc rebel sst\n4  17.0          8           302  ...    70       1                ford torino\n\n[5 rows x 9 columns]\n"
     ]
    }
   ],
   "source": [
    "cars1=cars1.iloc[:, 0:9]\n",
    "print(cars1.head())"
   ]
  },
  {
   "cell_type": "code",
   "execution_count": 0,
   "metadata": {
    "application/vnd.databricks.v1+cell": {
     "cellMetadata": {
      "byteLimit": 2048000,
      "rowLimit": 10000
     },
     "inputWidgets": {},
     "nuid": "3951f1bd-c32b-43d1-8241-6748925d8824",
     "showTitle": false,
     "tableResultSettingsMap": {},
     "title": ""
    }
   },
   "outputs": [
    {
     "output_type": "stream",
     "name": "stdout",
     "output_type": "stream",
     "text": [
      "(200, 9)\n(200, 9)\n"
     ]
    }
   ],
   "source": [
    "print(cars2.shape)\n",
    "print(cars2.shape)"
   ]
  },
  {
   "cell_type": "code",
   "execution_count": 0,
   "metadata": {
    "application/vnd.databricks.v1+cell": {
     "cellMetadata": {
      "byteLimit": 2048000,
      "rowLimit": 10000
     },
     "inputWidgets": {},
     "nuid": "6ef796c6-9526-4b68-9637-954b7eb875af",
     "showTitle": false,
     "tableResultSettingsMap": {},
     "title": ""
    }
   },
   "outputs": [
    {
     "output_type": "stream",
     "name": "stderr",
     "output_type": "stream",
     "text": [
      "/home/spark-8e83f53f-71aa-490b-9cb7-bb/.ipykernel/3082/command-9003033569351309-3458682206:1: FutureWarning: The frame.append method is deprecated and will be removed from pandas in a future version. Use pandas.concat instead.\n  cars=cars1.append(cars2)\n"
     ]
    },
    {
     "output_type": "execute_result",
     "data": {
      "text/html": [
       "<div>\n",
       "<style scoped>\n",
       "    .dataframe tbody tr th:only-of-type {\n",
       "        vertical-align: middle;\n",
       "    }\n",
       "\n",
       "    .dataframe tbody tr th {\n",
       "        vertical-align: top;\n",
       "    }\n",
       "\n",
       "    .dataframe thead th {\n",
       "        text-align: right;\n",
       "    }\n",
       "</style>\n",
       "<table border=\"1\" class=\"dataframe\">\n",
       "  <thead>\n",
       "    <tr style=\"text-align: right;\">\n",
       "      <th></th>\n",
       "      <th>mpg</th>\n",
       "      <th>cylinders</th>\n",
       "      <th>displacement</th>\n",
       "      <th>horsepower</th>\n",
       "      <th>weight</th>\n",
       "      <th>acceleration</th>\n",
       "      <th>model</th>\n",
       "      <th>origin</th>\n",
       "      <th>car</th>\n",
       "    </tr>\n",
       "  </thead>\n",
       "  <tbody>\n",
       "    <tr>\n",
       "      <th>0</th>\n",
       "      <td>18.0</td>\n",
       "      <td>8</td>\n",
       "      <td>307</td>\n",
       "      <td>130</td>\n",
       "      <td>3504</td>\n",
       "      <td>12.0</td>\n",
       "      <td>70</td>\n",
       "      <td>1</td>\n",
       "      <td>chevrolet chevelle malibu</td>\n",
       "    </tr>\n",
       "    <tr>\n",
       "      <th>1</th>\n",
       "      <td>15.0</td>\n",
       "      <td>8</td>\n",
       "      <td>350</td>\n",
       "      <td>165</td>\n",
       "      <td>3693</td>\n",
       "      <td>11.5</td>\n",
       "      <td>70</td>\n",
       "      <td>1</td>\n",
       "      <td>buick skylark 320</td>\n",
       "    </tr>\n",
       "    <tr>\n",
       "      <th>2</th>\n",
       "      <td>18.0</td>\n",
       "      <td>8</td>\n",
       "      <td>318</td>\n",
       "      <td>150</td>\n",
       "      <td>3436</td>\n",
       "      <td>11.0</td>\n",
       "      <td>70</td>\n",
       "      <td>1</td>\n",
       "      <td>plymouth satellite</td>\n",
       "    </tr>\n",
       "    <tr>\n",
       "      <th>3</th>\n",
       "      <td>16.0</td>\n",
       "      <td>8</td>\n",
       "      <td>304</td>\n",
       "      <td>150</td>\n",
       "      <td>3433</td>\n",
       "      <td>12.0</td>\n",
       "      <td>70</td>\n",
       "      <td>1</td>\n",
       "      <td>amc rebel sst</td>\n",
       "    </tr>\n",
       "    <tr>\n",
       "      <th>4</th>\n",
       "      <td>17.0</td>\n",
       "      <td>8</td>\n",
       "      <td>302</td>\n",
       "      <td>140</td>\n",
       "      <td>3449</td>\n",
       "      <td>10.5</td>\n",
       "      <td>70</td>\n",
       "      <td>1</td>\n",
       "      <td>ford torino</td>\n",
       "    </tr>\n",
       "    <tr>\n",
       "      <th>...</th>\n",
       "      <td>...</td>\n",
       "      <td>...</td>\n",
       "      <td>...</td>\n",
       "      <td>...</td>\n",
       "      <td>...</td>\n",
       "      <td>...</td>\n",
       "      <td>...</td>\n",
       "      <td>...</td>\n",
       "      <td>...</td>\n",
       "    </tr>\n",
       "    <tr>\n",
       "      <th>195</th>\n",
       "      <td>27.0</td>\n",
       "      <td>4</td>\n",
       "      <td>140</td>\n",
       "      <td>86</td>\n",
       "      <td>2790</td>\n",
       "      <td>15.6</td>\n",
       "      <td>82</td>\n",
       "      <td>1</td>\n",
       "      <td>ford mustang gl</td>\n",
       "    </tr>\n",
       "    <tr>\n",
       "      <th>196</th>\n",
       "      <td>44.0</td>\n",
       "      <td>4</td>\n",
       "      <td>97</td>\n",
       "      <td>52</td>\n",
       "      <td>2130</td>\n",
       "      <td>24.6</td>\n",
       "      <td>82</td>\n",
       "      <td>2</td>\n",
       "      <td>vw pickup</td>\n",
       "    </tr>\n",
       "    <tr>\n",
       "      <th>197</th>\n",
       "      <td>32.0</td>\n",
       "      <td>4</td>\n",
       "      <td>135</td>\n",
       "      <td>84</td>\n",
       "      <td>2295</td>\n",
       "      <td>11.6</td>\n",
       "      <td>82</td>\n",
       "      <td>1</td>\n",
       "      <td>dodge rampage</td>\n",
       "    </tr>\n",
       "    <tr>\n",
       "      <th>198</th>\n",
       "      <td>28.0</td>\n",
       "      <td>4</td>\n",
       "      <td>120</td>\n",
       "      <td>79</td>\n",
       "      <td>2625</td>\n",
       "      <td>18.6</td>\n",
       "      <td>82</td>\n",
       "      <td>1</td>\n",
       "      <td>ford ranger</td>\n",
       "    </tr>\n",
       "    <tr>\n",
       "      <th>199</th>\n",
       "      <td>31.0</td>\n",
       "      <td>4</td>\n",
       "      <td>119</td>\n",
       "      <td>82</td>\n",
       "      <td>2720</td>\n",
       "      <td>19.4</td>\n",
       "      <td>82</td>\n",
       "      <td>1</td>\n",
       "      <td>chevy s-10</td>\n",
       "    </tr>\n",
       "  </tbody>\n",
       "</table>\n",
       "<p>398 rows × 9 columns</p>\n",
       "</div>"
      ],
      "text/plain": [
       "      mpg  cylinders  displacement  ... model  origin                        car\n",
       "0    18.0          8           307  ...    70       1  chevrolet chevelle malibu\n",
       "1    15.0          8           350  ...    70       1          buick skylark 320\n",
       "2    18.0          8           318  ...    70       1         plymouth satellite\n",
       "3    16.0          8           304  ...    70       1              amc rebel sst\n",
       "4    17.0          8           302  ...    70       1                ford torino\n",
       "..    ...        ...           ...  ...   ...     ...                        ...\n",
       "195  27.0          4           140  ...    82       1            ford mustang gl\n",
       "196  44.0          4            97  ...    82       2                  vw pickup\n",
       "197  32.0          4           135  ...    82       1              dodge rampage\n",
       "198  28.0          4           120  ...    82       1                ford ranger\n",
       "199  31.0          4           119  ...    82       1                 chevy s-10\n",
       "\n",
       "[398 rows x 9 columns]"
      ]
     },
     "execution_count": 20,
     "metadata": {},
     "output_type": "execute_result"
    }
   ],
   "source": [
    "cars=cars1.append(cars2)\n",
    "cars"
   ]
  },
  {
   "cell_type": "code",
   "execution_count": 0,
   "metadata": {
    "application/vnd.databricks.v1+cell": {
     "cellMetadata": {
      "byteLimit": 2048000,
      "rowLimit": 10000
     },
     "inputWidgets": {},
     "nuid": "8d8deed2-0535-4b77-b63c-0313ae46a7de",
     "showTitle": false,
     "tableResultSettingsMap": {},
     "title": ""
    }
   },
   "outputs": [
    {
     "output_type": "execute_result",
     "data": {
      "text/plain": [
       "array([52137, 44643, 51361, 21680, 68016, 33156, 37881, 23639, 64104,\n",
       "       43987, 32385, 40424, 46243, 27035, 38578, 16865, 18716, 23612,\n",
       "       66087, 33112, 40180, 24822, 38372, 66823, 70969, 67330, 71672,\n",
       "       32139, 70024, 64858, 57065, 39744, 71588, 35406, 39205, 21301,\n",
       "       16286, 24157, 72871, 15511, 48205, 56849, 60958, 16743, 53513,\n",
       "       57824, 64831, 71026, 61064, 62519, 69579, 47745, 40610, 25709,\n",
       "       15094, 38468, 20745, 46720, 16176, 64737, 33947, 49322, 58282,\n",
       "       15634, 29157, 69934, 18849, 24815, 36656, 72966, 32774, 21522,\n",
       "       29137, 52453, 68560, 32560, 60142, 57418, 65409, 15646, 38475,\n",
       "       57594, 21699, 70757, 59315, 44571, 33877, 20088, 56376, 15551,\n",
       "       37277, 57545, 58759, 64693, 37646, 30604, 46187, 62524, 29584,\n",
       "       26970, 34294, 48225, 18920, 36703, 70179, 25309, 47706, 24195,\n",
       "       42145, 70309, 58498, 16877, 60433, 53043, 15234, 71329, 70971,\n",
       "       20213, 31736, 38278, 21696, 25782, 60713, 59375, 18906, 36149,\n",
       "       17931, 64407, 38032, 52599, 48356, 60771, 72734, 21038, 39596,\n",
       "       56031, 25879, 36000, 20125, 39057, 43593, 17635, 44093, 42397,\n",
       "       43926, 23101, 38314, 23656, 57790, 49560, 43762, 28730, 72392,\n",
       "       43656, 39287, 55793, 31657, 17753, 69103, 55286, 18338, 25096,\n",
       "       59025, 32451, 48563, 70959, 36130, 23901, 19384, 41520, 36366,\n",
       "       66128, 68705, 48798, 33348, 67398, 66594, 37995, 65696, 65045,\n",
       "       18287, 56013, 20102, 16182, 38071, 22853, 32917, 56764, 31066,\n",
       "       49078, 67386, 63254, 18911, 65942, 18161, 20960, 69063, 25642,\n",
       "       18705, 57961, 23059, 32409, 15979, 62282, 15260, 27043, 51519,\n",
       "       34386, 26985, 26274, 59400, 20449, 72824, 71000, 45867, 31916,\n",
       "       30179, 20966, 68480, 32465, 58484, 24982, 69483, 43230, 24029,\n",
       "       23955, 70254, 41382, 35502, 61544, 26812, 23488, 71042, 41744,\n",
       "       48084, 70650, 25403, 53911, 16121, 33646, 48757, 66527, 67078,\n",
       "       22336, 21510, 27077, 39067, 71006, 41056, 53481, 68354, 55261,\n",
       "       45308, 67747, 66304, 21685, 26268, 66810, 39955, 33087, 15155,\n",
       "       23720, 15756, 19057, 22557, 42694, 50209, 60911, 21568, 40037,\n",
       "       18813, 62042, 34504, 18646, 65837, 52144, 60750, 21866, 28626,\n",
       "       17228, 46354, 60652, 49184, 21550, 72088, 30613, 23895, 58296,\n",
       "       43034, 58369, 70675, 52389, 49331, 26088, 54723, 39654, 21771,\n",
       "       31034, 25886, 23673, 47855, 70714, 64048, 63867, 30431, 56046,\n",
       "       27630, 56706, 52949, 26565, 42728, 61517, 22932, 38713, 54186,\n",
       "       26092, 64763, 48665, 44989, 45393, 19327, 60401, 40362, 55586,\n",
       "       48790, 22271, 16373, 71832, 36078, 57489, 35758, 26946, 45605,\n",
       "       16287, 16783, 45492, 37332, 15732, 43339, 31815, 67494, 66813,\n",
       "       18523, 30066, 51317, 61286, 61850, 60517, 68497, 15032, 25346,\n",
       "       35696, 21653, 58510, 15558, 70806, 71132, 48499, 22349, 45496,\n",
       "       21044, 48292, 31685, 67929, 16547, 59826, 43966, 49559, 29955,\n",
       "       60461, 51108, 56023, 53053, 45067, 33913, 46538, 61243, 23020,\n",
       "       60523, 68771, 66057, 52086, 53013, 28952, 44135, 22253, 33066,\n",
       "       44490, 38906, 43589, 66312, 17970, 49337, 68729, 37226, 55222,\n",
       "       50932, 27749], dtype=uint32)"
      ]
     },
     "execution_count": 25,
     "metadata": {},
     "output_type": "execute_result"
    }
   ],
   "source": [
    "nr_owners=np.random.randint(15000,high=73001,size=398,dtype='I')\n",
    "nr_owners"
   ]
  },
  {
   "cell_type": "code",
   "execution_count": 0,
   "metadata": {
    "application/vnd.databricks.v1+cell": {
     "cellMetadata": {
      "byteLimit": 2048000,
      "rowLimit": 10000
     },
     "inputWidgets": {},
     "nuid": "f2a7e021-239b-4801-b241-5831557da226",
     "showTitle": false,
     "tableResultSettingsMap": {},
     "title": ""
    }
   },
   "outputs": [
    {
     "output_type": "execute_result",
     "data": {
      "text/plain": [
       "<bound method NDFrame.tail of       mpg  cylinders  displacement  ... origin                        car  owners\n",
       "0    18.0          8           307  ...      1  chevrolet chevelle malibu   52137\n",
       "1    15.0          8           350  ...      1          buick skylark 320   44643\n",
       "2    18.0          8           318  ...      1         plymouth satellite   51361\n",
       "3    16.0          8           304  ...      1              amc rebel sst   21680\n",
       "4    17.0          8           302  ...      1                ford torino   68016\n",
       "..    ...        ...           ...  ...    ...                        ...     ...\n",
       "195  27.0          4           140  ...      1            ford mustang gl   68729\n",
       "196  44.0          4            97  ...      2                  vw pickup   37226\n",
       "197  32.0          4           135  ...      1              dodge rampage   55222\n",
       "198  28.0          4           120  ...      1                ford ranger   50932\n",
       "199  31.0          4           119  ...      1                 chevy s-10   27749\n",
       "\n",
       "[398 rows x 10 columns]>"
      ]
     },
     "execution_count": 32,
     "metadata": {},
     "output_type": "execute_result"
    }
   ],
   "source": [
    "cars['owners']=nr_owners\n",
    "cars.tail"
   ]
  }
 ],
 "metadata": {
  "application/vnd.databricks.v1+notebook": {
   "computePreferences": null,
   "dashboards": [],
   "environmentMetadata": {
    "base_environment": "",
    "environment_version": "2"
   },
   "inputWidgetPreferences": null,
   "language": "python",
   "notebookMetadata": {
    "pythonIndentUnit": 4
   },
   "notebookName": "car data 2025-07-21 09:58:30",
   "widgets": {}
  },
  "language_info": {
   "name": "python"
  }
 },
 "nbformat": 4,
 "nbformat_minor": 0
}