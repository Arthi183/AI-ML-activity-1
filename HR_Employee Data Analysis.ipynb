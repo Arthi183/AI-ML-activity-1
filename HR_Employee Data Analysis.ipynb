{
 "cells": [
  {
   "cell_type": "code",
   "execution_count": 0,
   "metadata": {
    "application/vnd.databricks.v1+cell": {
     "cellMetadata": {
      "byteLimit": 2048000,
      "rowLimit": 10000
     },
     "inputWidgets": {},
     "nuid": "dda5c1fb-0976-49b7-bac5-f24531f55f36",
     "showTitle": false,
     "tableResultSettingsMap": {},
     "title": ""
    }
   },
   "outputs": [],
   "source": [
    "from pyspark.sql import SparkSession \n",
    "spark = SparkSession.builder.appName(\"EmployeeDataAnalysis\").getOrCreate() "
   ]
  },
  {
   "cell_type": "code",
   "execution_count": 0,
   "metadata": {
    "application/vnd.databricks.v1+cell": {
     "cellMetadata": {
      "byteLimit": 2048000,
      "rowLimit": 10000
     },
     "inputWidgets": {},
     "nuid": "6e51b651-33aa-458a-aef3-978dda834017",
     "showTitle": false,
     "tableResultSettingsMap": {},
     "title": ""
    }
   },
   "outputs": [
    {
     "output_type": "stream",
     "name": "stdout",
     "output_type": "stream",
     "text": [
      "+-----------+----------+---------+--------+------------+---------+----------+------+-----------+\n|EMPLOYEE_ID|FIRST_NAME|LAST_NAME|   EMAIL|PHONE_NUMBER|HIRE_DATE|    JOB_ID|SALARY| Department|\n+-----------+----------+---------+--------+------------+---------+----------+------+-----------+\n|        198|    Donald| OConnell|DOCONNEL|650.507.9833|21-Jun-07|  SH_CLERK|  2600|Engineering|\n|        199|   Douglas|    Grant|  DGRANT|650.507.9844|13-Jan-08|  SH_CLERK|  2600|  Marketing|\n|        200|  Jennifer|   Whalen| JWHALEN|515.123.4444|17-Sep-03|   AD_ASST|  4400|      Sales|\n|        201|   Michael|Hartstein|MHARTSTE|515.123.5555|17-Feb-04|    MK_MAN| 13000|Engineering|\n|        202|       Pat|      Fay|    PFAY|603.123.6666|17-Aug-05|    MK_REP|  6000|      Sales|\n|        203|     Susan|   Mavris| SMAVRIS|515.123.7777| 7-Jun-02|    HR_REP|  6500|Engineering|\n|        204|   Hermann|     Baer|   HBAER|515.123.8888| 7-Jun-02|    PR_REP| 10000|      Sales|\n|        205|   Shelley|  Higgins|SHIGGINS|515.123.8080| 7-Jun-02|    AC_MGR| 12008|      Sales|\n|        206|   William|    Gietz|  WGIETZ|515.123.8181| 7-Jun-02|AC_ACCOUNT|  8300|  Marketing|\n|        100|    Steven|     King|   SKING|515.123.4567|17-Jun-03|   AD_PRES| 24000|Engineering|\n|        101|     Neena|  Kochhar|NKOCHHAR|515.123.4568|21-Sep-05|     AD_VP| 17000|  Marketing|\n|        102|       Lex|  De Haan| LDEHAAN|515.123.4569|13-Jan-01|     AD_VP| 17000|  Marketing|\n|        103| Alexander|   Hunold| AHUNOLD|590.423.4567| 3-Jan-06|   IT_PROG|  9000|      Sales|\n|        104|     Bruce|    Ernst|  BERNST|590.423.4568|21-May-07|   IT_PROG|  6000|      Sales|\n|        105|     David|   Austin| DAUSTIN|590.423.4569|25-Jun-05|   IT_PROG|  4800|      Sales|\n|        106|     Valli|Pataballa|VPATABAL|590.423.4560| 5-Feb-06|   IT_PROG|  4800|  Marketing|\n|        107|     Diana|  Lorentz|DLORENTZ|590.423.5567| 7-Feb-07|   IT_PROG|  4200|  Marketing|\n|        108|     Nancy|Greenberg|NGREENBE|515.124.4569|17-Aug-02|    FI_MGR| 12008|Engineering|\n|        109|    Daniel|   Faviet| DFAVIET|515.124.4169|16-Aug-02|FI_ACCOUNT|  9000|      Sales|\n|        110|      John|     Chen|   JCHEN|515.124.4269|28-Sep-05|FI_ACCOUNT|  8200|      Sales|\n+-----------+----------+---------+--------+------------+---------+----------+------+-----------+\nonly showing top 20 rows\n"
     ]
    }
   ],
   "source": [
    "df = spark.read.option(\"header\", True).option(\"inferSchema\",True).csv(\"/Volumes/hr_employee/default/emp_vol/employees1.csv\") \n",
    "df.show()"
   ]
  },
  {
   "cell_type": "code",
   "execution_count": 0,
   "metadata": {
    "application/vnd.databricks.v1+cell": {
     "cellMetadata": {
      "byteLimit": 2048000,
      "rowLimit": 10000
     },
     "inputWidgets": {},
     "nuid": "d9516052-620b-47da-b906-0df85f654297",
     "showTitle": false,
     "tableResultSettingsMap": {},
     "title": ""
    }
   },
   "outputs": [
    {
     "output_type": "stream",
     "name": "stdout",
     "output_type": "stream",
     "text": [
      "root\n |-- EMPLOYEE_ID: integer (nullable = true)\n |-- FIRST_NAME: string (nullable = true)\n |-- LAST_NAME: string (nullable = true)\n |-- EMAIL: string (nullable = true)\n |-- PHONE_NUMBER: string (nullable = true)\n |-- HIRE_DATE: string (nullable = true)\n |-- JOB_ID: string (nullable = true)\n |-- SALARY: integer (nullable = true)\n |-- Department: string (nullable = true)\n\n"
     ]
    }
   ],
   "source": [
    "df.printSchema() "
   ]
  },
  {
   "cell_type": "code",
   "execution_count": 0,
   "metadata": {
    "application/vnd.databricks.v1+cell": {
     "cellMetadata": {
      "byteLimit": 2048000,
      "rowLimit": 10000
     },
     "inputWidgets": {},
     "nuid": "55afa445-5658-47d4-a334-54099c0a7a21",
     "showTitle": false,
     "tableResultSettingsMap": {},
     "title": ""
    }
   },
   "outputs": [
    {
     "output_type": "stream",
     "name": "stdout",
     "output_type": "stream",
     "text": [
      "+-----------+-----------------+\n| Department|      avg(Salary)|\n+-----------+-----------------+\n|      Sales|6317.111111111111|\n|  Marketing|           6375.0|\n|Engineering|           5838.0|\n+-----------+-----------------+\n\n"
     ]
    }
   ],
   "source": [
    "from pyspark.sql.functions import col\n",
    "\n",
    "df = df.withColumn(\"Salary\", col(\"Salary\").cast(\"double\"))\n",
    "df.groupBy(\"Department\").avg(\"Salary\").show()"
   ]
  },
  {
   "cell_type": "code",
   "execution_count": 0,
   "metadata": {
    "application/vnd.databricks.v1+cell": {
     "cellMetadata": {
      "byteLimit": 2048000,
      "rowLimit": 10000
     },
     "inputWidgets": {},
     "nuid": "f44e9fef-6f33-40ae-a43e-0a8f8f764511",
     "showTitle": false,
     "tableResultSettingsMap": {},
     "title": ""
    }
   },
   "outputs": [
    {
     "output_type": "stream",
     "name": "stdout",
     "output_type": "stream",
     "text": [
      "+-----------+----------+---------+--------+------------+---------+----------+-------+-----------+------+\n|EMPLOYEE_ID|FIRST_NAME|LAST_NAME|   EMAIL|PHONE_NUMBER|HIRE_DATE|    JOB_ID| Salary| Department| Bonus|\n+-----------+----------+---------+--------+------------+---------+----------+-------+-----------+------+\n|        198|    Donald| OConnell|DOCONNEL|650.507.9833|21-Jun-07|  SH_CLERK| 2600.0|Engineering| 260.0|\n|        199|   Douglas|    Grant|  DGRANT|650.507.9844|13-Jan-08|  SH_CLERK| 2600.0|  Marketing| 260.0|\n|        200|  Jennifer|   Whalen| JWHALEN|515.123.4444|17-Sep-03|   AD_ASST| 4400.0|      Sales| 440.0|\n|        201|   Michael|Hartstein|MHARTSTE|515.123.5555|17-Feb-04|    MK_MAN|13000.0|Engineering|1300.0|\n|        202|       Pat|      Fay|    PFAY|603.123.6666|17-Aug-05|    MK_REP| 6000.0|      Sales| 600.0|\n|        203|     Susan|   Mavris| SMAVRIS|515.123.7777| 7-Jun-02|    HR_REP| 6500.0|Engineering| 650.0|\n|        204|   Hermann|     Baer|   HBAER|515.123.8888| 7-Jun-02|    PR_REP|10000.0|      Sales|1000.0|\n|        205|   Shelley|  Higgins|SHIGGINS|515.123.8080| 7-Jun-02|    AC_MGR|12008.0|      Sales|1200.8|\n|        206|   William|    Gietz|  WGIETZ|515.123.8181| 7-Jun-02|AC_ACCOUNT| 8300.0|  Marketing| 830.0|\n|        100|    Steven|     King|   SKING|515.123.4567|17-Jun-03|   AD_PRES|24000.0|Engineering|2400.0|\n|        101|     Neena|  Kochhar|NKOCHHAR|515.123.4568|21-Sep-05|     AD_VP|17000.0|  Marketing|1700.0|\n|        102|       Lex|  De Haan| LDEHAAN|515.123.4569|13-Jan-01|     AD_VP|17000.0|  Marketing|1700.0|\n|        103| Alexander|   Hunold| AHUNOLD|590.423.4567| 3-Jan-06|   IT_PROG| 9000.0|      Sales| 900.0|\n|        104|     Bruce|    Ernst|  BERNST|590.423.4568|21-May-07|   IT_PROG| 6000.0|      Sales| 600.0|\n|        105|     David|   Austin| DAUSTIN|590.423.4569|25-Jun-05|   IT_PROG| 4800.0|      Sales| 480.0|\n|        106|     Valli|Pataballa|VPATABAL|590.423.4560| 5-Feb-06|   IT_PROG| 4800.0|  Marketing| 480.0|\n|        107|     Diana|  Lorentz|DLORENTZ|590.423.5567| 7-Feb-07|   IT_PROG| 4200.0|  Marketing| 420.0|\n|        108|     Nancy|Greenberg|NGREENBE|515.124.4569|17-Aug-02|    FI_MGR|12008.0|Engineering|1200.8|\n|        109|    Daniel|   Faviet| DFAVIET|515.124.4169|16-Aug-02|FI_ACCOUNT| 9000.0|      Sales| 900.0|\n|        110|      John|     Chen|   JCHEN|515.124.4269|28-Sep-05|FI_ACCOUNT| 8200.0|      Sales| 820.0|\n+-----------+----------+---------+--------+------------+---------+----------+-------+-----------+------+\nonly showing top 20 rows\n"
     ]
    }
   ],
   "source": [
    "df = df.withColumn(\"Bonus\", df.Salary * 0.10) \n",
    "df.show()"
   ]
  },
  {
   "cell_type": "code",
   "execution_count": 0,
   "metadata": {
    "application/vnd.databricks.v1+cell": {
     "cellMetadata": {
      "byteLimit": 2048000,
      "rowLimit": 10000
     },
     "inputWidgets": {},
     "nuid": "4e3dc9f2-9bed-4621-aa64-405300733181",
     "showTitle": false,
     "tableResultSettingsMap": {},
     "title": ""
    }
   },
   "outputs": [
    {
     "output_type": "stream",
     "name": "stdout",
     "output_type": "stream",
     "text": [
      "+-----------+----------+---------+-----+------------+---------+------+------+----------+-----+\n|EMPLOYEE_ID|FIRST_NAME|LAST_NAME|EMAIL|PHONE_NUMBER|HIRE_DATE|JOB_ID|Salary|Department|Bonus|\n+-----------+----------+---------+-----+------------+---------+------+------+----------+-----+\n+-----------+----------+---------+-----+------------+---------+------+------+----------+-----+\n\n"
     ]
    }
   ],
   "source": [
    "df.filter(df.Salary > 70000).show()"
   ]
  },
  {
   "cell_type": "code",
   "execution_count": 0,
   "metadata": {
    "application/vnd.databricks.v1+cell": {
     "cellMetadata": {
      "byteLimit": 2048000,
      "rowLimit": 10000
     },
     "inputWidgets": {},
     "nuid": "3bca566a-8013-4f53-bec1-5c458a6155e3",
     "showTitle": false,
     "tableResultSettingsMap": {},
     "title": ""
    }
   },
   "outputs": [
    {
     "output_type": "display_data",
     "data": {
      "text/html": [
       "<style scoped>\n",
       "  .table-result-container {\n",
       "    max-height: 300px;\n",
       "    overflow: auto;\n",
       "  }\n",
       "  table, th, td {\n",
       "    border: 1px solid black;\n",
       "    border-collapse: collapse;\n",
       "  }\n",
       "  th, td {\n",
       "    padding: 5px;\n",
       "  }\n",
       "  th {\n",
       "    text-align: left;\n",
       "  }\n",
       "</style><div class='table-result-container'><table class='table-result'><thead style='background-color: white'><tr><th>Department</th><th>avg(Salary)</th></tr></thead><tbody><tr><td>Sales</td><td>6317.111111111111</td></tr><tr><td>Marketing</td><td>6375.0</td></tr><tr><td>Engineering</td><td>5838.0</td></tr></tbody></table></div>"
      ]
     },
     "metadata": {
      "application/vnd.databricks.v1+output": {
       "addedWidgets": {},
       "aggData": [],
       "aggError": "",
       "aggOverflow": false,
       "aggSchema": [],
       "aggSeriesLimitReached": false,
       "aggType": "",
       "arguments": {},
       "columnCustomDisplayInfos": {},
       "data": [
        [
         "Sales",
         6317.111111111111
        ],
        [
         "Marketing",
         6375.0
        ],
        [
         "Engineering",
         5838.0
        ]
       ],
       "datasetInfos": [],
       "dbfsResultPath": null,
       "isJsonSchema": true,
       "metadata": {},
       "overflow": false,
       "plotOptions": {
        "customPlotOptions": {},
        "displayType": "table",
        "pivotAggregation": null,
        "pivotColumns": null,
        "xColumns": null,
        "yColumns": null
       },
       "removedWidgets": [],
       "schema": [
        {
         "metadata": "{}",
         "name": "Department",
         "type": "\"string\""
        },
        {
         "metadata": "{\"__autoGeneratedAlias\": \"true\"}",
         "name": "avg(Salary)",
         "type": "\"double\""
        }
       ],
       "type": "table"
      }
     },
     "output_type": "display_data"
    }
   ],
   "source": [
    "df.groupBy(\"Department\").avg(\"Salary\").display()"
   ]
  }
 ],
 "metadata": {
  "application/vnd.databricks.v1+notebook": {
   "computePreferences": null,
   "dashboards": [],
   "environmentMetadata": {
    "base_environment": "",
    "environment_version": "2"
   },
   "inputWidgetPreferences": null,
   "language": "python",
   "notebookMetadata": {
    "pythonIndentUnit": 4
   },
   "notebookName": "HR_Employee Data Analysis 2025-07-18 11:44:48",
   "widgets": {}
  },
  "language_info": {
   "name": "python"
  }
 },
 "nbformat": 4,
 "nbformat_minor": 0
}