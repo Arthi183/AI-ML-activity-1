{
 "cells": [
  {
   "cell_type": "code",
   "execution_count": 0,
   "metadata": {
    "application/vnd.databricks.v1+cell": {
     "cellMetadata": {
      "byteLimit": 2048000,
      "rowLimit": 10000
     },
     "inputWidgets": {},
     "nuid": "5428d223-7aa5-44bb-accb-3b19a6722a6c",
     "showTitle": false,
     "tableResultSettingsMap": {},
     "title": ""
    }
   },
   "outputs": [],
   "source": [
    "import pandas as pd\n",
    "import numpy as np"
   ]
  },
  {
   "cell_type": "code",
   "execution_count": 0,
   "metadata": {
    "application/vnd.databricks.v1+cell": {
     "cellMetadata": {
      "byteLimit": 2048000,
      "rowLimit": 10000
     },
     "inputWidgets": {},
     "nuid": "5f47f3b5-8023-49dd-a0cd-b444af6ab3df",
     "showTitle": false,
     "tableResultSettingsMap": {},
     "title": ""
    }
   },
   "outputs": [
    {
     "output_type": "stream",
     "name": "stdout",
     "output_type": "stream",
     "text": [
      "    mpg  cylinders  displacement  ... Unnamed: 11  Unnamed: 12  Unnamed: 13\n0  18.0          8           307  ...         NaN          NaN          NaN\n1  15.0          8           350  ...         NaN          NaN          NaN\n2  18.0          8           318  ...         NaN          NaN          NaN\n3  16.0          8           304  ...         NaN          NaN          NaN\n4  17.0          8           302  ...         NaN          NaN          NaN\n\n[5 rows x 14 columns]\n    mpg  cylinders  displacement  ... model  origin                 car\n0  33.0          4            91  ...    76       3         honda civic\n1  20.0          6           225  ...    76       1      dodge aspen se\n2  18.0          6           250  ...    76       1   ford granada ghia\n3  18.5          6           250  ...    76       1  pontiac ventura sj\n4  17.5          6           258  ...    76       1       amc pacer d/l\n\n[5 rows x 9 columns]\n"
     ]
    }
   ],
   "source": [
    "cars1=pd.read_csv(\"https://raw.githubusercontent.com/guipsamora/pandas_exercises/master/05_Merge/Auto_MPG/cars1.csv\")\n",
    "cars2=pd.read_csv(\"https://raw.githubusercontent.com/guipsamora/pandas_exercises/master/05_Merge/Auto_MPG/cars2.csv\")\n",
    "print(cars1.head())\n",
    "print(cars2.head())\n",
    "   "
   ]
  }
 ],
 "metadata": {
  "application/vnd.databricks.v1+notebook": {
   "computePreferences": null,
   "dashboards": [],
   "environmentMetadata": {
    "base_environment": "",
    "environment_version": "2"
   },
   "inputWidgetPreferences": null,
   "language": "python",
   "notebookMetadata": {
    "pythonIndentUnit": 4
   },
   "notebookName": "cars data 2025-07-21 09:58:30",
   "widgets": {}
  },
  "language_info": {
   "name": "python"
  }
 },
 "nbformat": 4,
 "nbformat_minor": 0
}